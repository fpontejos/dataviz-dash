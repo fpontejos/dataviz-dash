{
 "cells": [
  {
   "cell_type": "markdown",
   "id": "09296595-91e7-4e31-ae88-2fa7ac739187",
   "metadata": {},
   "source": [
    "# Data Visualization Individual Plots"
   ]
  },
  {
   "cell_type": "code",
   "execution_count": null,
   "id": "c93acc2e-9866-488b-9908-4211e6a12b5b",
   "metadata": {},
   "outputs": [],
   "source": [
    "import pandas as pd\n",
    "import numpy as np\n",
    "import plotly.graph_objects as go\n",
    "import json"
   ]
  },
  {
   "cell_type": "markdown",
   "id": "52d61ec8-187e-4f71-97d9-6af84f9398d7",
   "metadata": {},
   "source": [
    "## Get datasets"
   ]
  },
  {
   "cell_type": "code",
   "execution_count": null,
   "id": "c77ed7e8-f834-4b56-bad3-d2b789f39378",
   "metadata": {},
   "outputs": [],
   "source": [
    "data_path = '../data/'\n",
    "pct_data = pd.read_csv(data_path + 'renewables_percent_timeseries.csv')\n",
    "pct_data = pct_data.sort_values(by='Country')"
   ]
  },
  {
   "cell_type": "code",
   "execution_count": null,
   "id": "921366d5-101c-4b6d-bb77-e8c3e72bf624",
   "metadata": {},
   "outputs": [],
   "source": [
    "#pct_data#['SIEC Code'].unique()"
   ]
  },
  {
   "cell_type": "code",
   "execution_count": null,
   "id": "fb511101-cd2b-4324-b9bd-8215e57313ff",
   "metadata": {},
   "outputs": [],
   "source": [
    "ts_years = [str(i) for i in range(2004, 2021)]\n",
    "\n",
    "percent_timeseries = pct_data.loc[pct_data['SIEC Code']=='RA000']\\\n",
    "                              .reset_index(drop=True)\n",
    "percent_timeseries_tot = pct_data.loc[pct_data['SIEC Code']=='TOTAL']\\\n",
    "                                 .reset_index(drop=True)\n",
    "\n",
    "for yi in ts_years:\n",
    "    percent_timeseries[yi] = round((100*percent_timeseries[yi] / percent_timeseries_tot[yi]), 2)\n",
    "#percent_timeseries"
   ]
  },
  {
   "cell_type": "code",
   "execution_count": null,
   "id": "6283c558-1152-4b0d-afe5-9b83c4054bb0",
   "metadata": {},
   "outputs": [],
   "source": [
    "pct_data.columns"
   ]
  },
  {
   "cell_type": "code",
   "execution_count": null,
   "id": "7c503a83-f4d6-4ba7-abc9-df81cf747706",
   "metadata": {},
   "outputs": [],
   "source": [
    "rs_data = pd.read_csv(data_path + 'renewable_sources_2020.csv')\n",
    "#rs_data"
   ]
  },
  {
   "cell_type": "markdown",
   "id": "d12da7f2-76ca-4386-9638-0f8eb4694dd3",
   "metadata": {},
   "source": [
    "## Plot Percent Consumption"
   ]
  },
  {
   "cell_type": "code",
   "execution_count": null,
   "id": "7bf7d690-cdc0-44fa-81bf-72974c12d1f5",
   "metadata": {},
   "outputs": [],
   "source": [
    "df_country_points = pd.read_csv(data_path + 'country_points.csv')\n",
    "\n",
    "data_geo = dict()\n",
    "\n",
    "with open(data_path + 'countries.geojson') as json_file:\n",
    "    data_geo = json.load(json_file)"
   ]
  },
  {
   "cell_type": "code",
   "execution_count": null,
   "id": "dc0012e4-22a1-4f13-b6e4-8dbd3583f685",
   "metadata": {},
   "outputs": [],
   "source": [
    "for feature in data_geo['features']:\n",
    "    feature['id'] = feature['properties']['ADMIN']   # or 'ISO-A3'\n",
    "    \n",
    "fr = data_geo['features'][77]['geometry']['coordinates'][0][0][0]\n"
   ]
  },
  {
   "cell_type": "code",
   "execution_count": null,
   "id": "08044510-1559-45ef-b6a5-98da9632508b",
   "metadata": {},
   "outputs": [],
   "source": [
    "data_scattermap = dict(type='choroplethmapbox', \n",
    "                       geojson=data_geo,\n",
    "                      locations=percent_timeseries['Country'], \n",
    "                      z=percent_timeseries['2020'],\n",
    "\n",
    "\n",
    "                      colorscale='viridis',\n",
    "                      colorbar=dict(title='Percent Renewables')\n",
    "                      )\n",
    "\n",
    "\n",
    "layout_scattermap = dict(mapbox=dict(style='white-bg',\n",
    "                                     center={\"lat\": 56.5, \"lon\": 11},\n",
    "                                     zoom=2.5,\n",
    "                                     layers=[dict(source=feature,\n",
    "                                                  below='traces',\n",
    "                                                  type='fill',\n",
    "                                                  \n",
    "                                                  fill=dict(outlinecolor='gray')\n",
    "                                                         ) for feature in data_geo['features']]\n",
    "                                    ),\n",
    "                         title=dict(text='World Map',\n",
    "                                    x=.5 # Title relative position according to the xaxis, range (0,1)\n",
    "                                   ),\n",
    "                         \n",
    "                           )"
   ]
  },
  {
   "cell_type": "code",
   "execution_count": null,
   "id": "622b0b64-2a82-4971-93a7-8248903351b6",
   "metadata": {},
   "outputs": [],
   "source": []
  },
  {
   "cell_type": "code",
   "execution_count": null,
   "id": "cf7c5c0e-151f-48f7-91a3-0fb74bc9a32c",
   "metadata": {},
   "outputs": [],
   "source": []
  },
  {
   "cell_type": "code",
   "execution_count": null,
   "id": "358ac5b5-708d-4352-901e-f64a383ca414",
   "metadata": {},
   "outputs": [],
   "source": [
    "fig_scattermap = go.Figure(data=data_scattermap, layout=layout_scattermap)\n"
   ]
  },
  {
   "cell_type": "code",
   "execution_count": null,
   "id": "30a561ea-de29-4c70-83d2-f6dbd07a5e08",
   "metadata": {},
   "outputs": [],
   "source": [
    "#fig_scattermap.show()#renderer='browser')"
   ]
  },
  {
   "cell_type": "code",
   "execution_count": null,
   "id": "83315805-c666-4b16-bf7a-4e2a5f9cb848",
   "metadata": {},
   "outputs": [],
   "source": [
    "# An empty graph object\n",
    "fig_bar = go.Figure()\n",
    "\n",
    "# Each year defines a new hidden (implies visible=False) trace in our visualization\n",
    "for year in ts_years:\n",
    "    fig_bar.add_trace(dict(type='bar',\n",
    "                     x=percent_timeseries['Country'],\n",
    "                     y=percent_timeseries[year],\n",
    "                     name=year,\n",
    "                     showlegend=False,\n",
    "                     visible=False\n",
    "                    )\n",
    "               )\n",
    "\n",
    "# First seen trace\n",
    "fig_bar.data[0].visible = True\n",
    "\n",
    "\n",
    "# Lets create our slider, one option for each trace\n",
    "steps = []\n",
    "for i in range(len(fig_bar.data)):\n",
    "    step = dict(\n",
    "        label='Year ' + ts_years[i],\n",
    "        method=\"restyle\", #there are four methods restyle changes the type of an argument (in this case if visible or not)\n",
    "        args=[\"visible\", [False] * len(fig_bar.data)], # Changes all to Not visible\n",
    "    )\n",
    "    step[\"args\"][1][i] = True  # Toggle i'th trace to \"visible\"\n",
    "    steps.append(step)\n",
    "\n",
    "    \n",
    "sliders = [dict(\n",
    "    active=2020,\n",
    "    pad={\"t\": 100},\n",
    "    steps=steps\n",
    ")]\n",
    "\n",
    "\n",
    "fig_bar.update_layout(dict(title=dict(text='Percentage of consumption using renewables'),\n",
    "                  yaxis=dict(title='Percentage',\n",
    "                             range=[0,100]\n",
    "                            ),\n",
    "                  sliders=sliders))\n",
    "\n"
   ]
  },
  {
   "cell_type": "code",
   "execution_count": null,
   "id": "bba6b60f-2de7-4bce-946e-85111b435629",
   "metadata": {},
   "outputs": [],
   "source": [
    "#fig_bar.show(renderer='iframe')"
   ]
  }
 ],
 "metadata": {
  "kernelspec": {
   "display_name": "Python 3 (ipykernel)",
   "language": "python",
   "name": "python3"
  },
  "language_info": {
   "codemirror_mode": {
    "name": "ipython",
    "version": 3
   },
   "file_extension": ".py",
   "mimetype": "text/x-python",
   "name": "python",
   "nbconvert_exporter": "python",
   "pygments_lexer": "ipython3",
   "version": "3.9.7"
  }
 },
 "nbformat": 4,
 "nbformat_minor": 5
}
