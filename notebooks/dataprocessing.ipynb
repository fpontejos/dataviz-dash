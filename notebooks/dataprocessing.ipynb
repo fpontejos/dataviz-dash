{
 "cells": [
  {
   "cell_type": "markdown",
   "id": "0c2b16f4-9399-4afa-a9cd-3539293cf049",
   "metadata": {},
   "source": [
    "# Data Visualization Dashboard Project"
   ]
  },
  {
   "cell_type": "markdown",
   "id": "474e0626-ecbd-459c-8114-b62794ffbc44",
   "metadata": {},
   "source": [
    "## Import packages"
   ]
  },
  {
   "cell_type": "code",
   "execution_count": 1,
   "id": "604ee16c-4993-4e0b-b9cc-3eedbfc1a95b",
   "metadata": {},
   "outputs": [],
   "source": [
    "import eurostat\n",
    "import pandas as pd\n",
    "import openpyxl\n"
   ]
  },
  {
   "cell_type": "code",
   "execution_count": 2,
   "id": "adb1ffa7-b0be-4bc5-8e2b-f38c3ed2ba40",
   "metadata": {},
   "outputs": [],
   "source": [
    "import plotly.graph_objects as go\n",
    "import numpy as np"
   ]
  },
  {
   "cell_type": "code",
   "execution_count": 3,
   "id": "4af194a4-8469-4f3c-b1fd-17427d1820fc",
   "metadata": {},
   "outputs": [],
   "source": [
    "data_out = '../data/'"
   ]
  },
  {
   "cell_type": "markdown",
   "id": "68aaabf2-ea09-41aa-b485-8f7c237e3305",
   "metadata": {},
   "source": [
    "## Codes"
   ]
  },
  {
   "cell_type": "code",
   "execution_count": 4,
   "id": "42480384-7282-42b9-b640-5ee69222d6ad",
   "metadata": {},
   "outputs": [],
   "source": [
    "siec_codes = eurostat.get_dic('siec')\n",
    "\n",
    "geo_eu = [\n",
    "'BE','BG','CZ','DK','DE',\n",
    "'EE','IE','EL','ES','FR',\n",
    "'HR','IT','CY','LV','LT',\n",
    "'LU','HU','MT','NL','AT',\n",
    "'PL','PT','RO','SI','SK',\n",
    "'FI','SE','IS','LI','NO',\n",
    "'CH',\n",
    "]\n",
    "\n",
    "geo_codes = {\n",
    "    'BE': 'Belgium',\n",
    "    'BG': 'Bulgaria',\n",
    "    'CZ': 'Czechia',\n",
    "    'DK': 'Denmark',\n",
    "    'DE': 'Germany',\n",
    "    'EE': 'Estonia',\n",
    "    'IE': 'Ireland',\n",
    "    'EL': 'Greece',\n",
    "    'ES': 'Spain',\n",
    "    'FR': 'France',\n",
    "    'HR': 'Croatia',\n",
    "    'IT': 'Italy',\n",
    "    'CY': 'Cyprus',\n",
    "    'LV': 'Latvia',\n",
    "    'LT': 'Lithuania',\n",
    "    'LU': 'Luxembourg',\n",
    "    'HU': 'Hungary',\n",
    "    'MT': 'Malta',\n",
    "    'NL': 'Netherlands',\n",
    "    'AT': 'Austria',\n",
    "    'PL': 'Poland',\n",
    "    'PT': 'Portugal',\n",
    "    'RO': 'Romania',\n",
    "    'SI': 'Slovenia',\n",
    "    'SK': 'Slovakia',\n",
    "    'FI': 'Finland',\n",
    "    'SE': 'Sweden',\n",
    "    'IS': 'Iceland',\n",
    "    'LI': 'Liechtenstein',\n",
    "    'NO': 'Norway',\n",
    "    'CH': 'Switzerland',\n",
    "    'UK': 'United Kingdom'\n",
    "}\n",
    "\n",
    "x = ['R5110-5150_W6000RI',\n",
    " 'R5200',\n",
    " 'R5300',\n",
    " 'RA000',\n",
    " 'RA200',\n",
    " 'RA410',\n",
    " 'RA500_5160',\n",
    " 'RA600',\n",
    " 'W6210'\n",
    "]\n",
    "\n",
    "rs_codes = [\n",
    " 'R5110-5150_W6000RI',\n",
    " 'R5200', \n",
    " 'R5300', \n",
    " 'RA100',\n",
    " 'RA200',\n",
    " 'RA300',\n",
    " 'RA410',\n",
    " 'RA420', \n",
    " 'RA500_5160', \n",
    " 'RA600',\n",
    " 'W6210',\n",
    "# 'RA000',\n",
    "           ]\n",
    "\n"
   ]
  },
  {
   "cell_type": "markdown",
   "id": "e94e53f4-39b6-46bc-b25f-e0ddc8e107b1",
   "metadata": {},
   "source": [
    "## Get SIEC Timeseries"
   ]
  },
  {
   "cell_type": "code",
   "execution_count": 5,
   "id": "d5932f6a-4b96-4f75-84f6-e2799ba0c65c",
   "metadata": {},
   "outputs": [],
   "source": [
    "es_code = 'NRG_IND_COTD'\n",
    "data = eurostat.get_data_df(str.lower(es_code), flags=False)"
   ]
  },
  {
   "cell_type": "code",
   "execution_count": 6,
   "id": "600d5ea8-6907-4560-807a-c18310ddb211",
   "metadata": {},
   "outputs": [],
   "source": [
    "## Rename columns:\n",
    "data.rename(columns={'geo\\\\time': 'Country Code', 'siec':'SIEC Code'}, inplace=True)"
   ]
  },
  {
   "cell_type": "code",
   "execution_count": 7,
   "id": "0688dbd9-0b1a-4324-ac66-37075e26d7c7",
   "metadata": {},
   "outputs": [],
   "source": [
    "# Keep only selected countries\n",
    "data = data.loc[data['Country Code'].isin(geo_eu),:]"
   ]
  },
  {
   "cell_type": "code",
   "execution_count": 8,
   "id": "ec276fd1-4102-4c3a-9e0d-c027f13d46fc",
   "metadata": {},
   "outputs": [],
   "source": [
    "# Remove extra rows in nrg_bal\n",
    "# Keep only:\n",
    "# Gross final consumption - energy use - overall target calculation without aviation cap adjustment \n",
    "# [GFC_E_OT_NAVICAPA]\n",
    "\n",
    "data = data.loc[data['nrg_bal']=='GFC_E_OT_NAVICAPA',:]\n"
   ]
  },
  {
   "cell_type": "code",
   "execution_count": 9,
   "id": "490e9262-2b78-46f3-a5d4-b5c0664f48dd",
   "metadata": {},
   "outputs": [],
   "source": [
    "# Remove unneccessary cols \n",
    "data.drop(columns=['nrg_bal','unit'], inplace=True)"
   ]
  },
  {
   "cell_type": "code",
   "execution_count": 10,
   "id": "a42c390b-62a4-441b-a8f4-f34fb40a7573",
   "metadata": {},
   "outputs": [],
   "source": [
    "data.reset_index(drop=True, inplace=True)"
   ]
  },
  {
   "cell_type": "code",
   "execution_count": 11,
   "id": "2608a6a5-8062-4576-8bdc-bd566076b19c",
   "metadata": {},
   "outputs": [],
   "source": [
    "data['Country'] = data['Country Code']\n",
    "data['Country'] = data['Country'].map(geo_codes)"
   ]
  },
  {
   "cell_type": "code",
   "execution_count": 12,
   "id": "1e338523-2e16-4406-b34a-f155d6f069d2",
   "metadata": {},
   "outputs": [],
   "source": [
    "data['SIEC'] = data['SIEC Code']\n",
    "data['SIEC'] = data['SIEC'].map(siec_codes)"
   ]
  },
  {
   "cell_type": "code",
   "execution_count": 13,
   "id": "05a8fc96-06ea-44f0-9895-ad52f59cc122",
   "metadata": {},
   "outputs": [],
   "source": [
    "data.to_csv(data_out + 'renewables_percent_timeseries.csv', index=False)"
   ]
  },
  {
   "cell_type": "markdown",
   "id": "25d8e605-aa1f-431f-959e-af422f489368",
   "metadata": {},
   "source": [
    "## Get Energy Flow Data "
   ]
  },
  {
   "cell_type": "code",
   "execution_count": 14,
   "id": "30ad86d4-a14f-46cf-b901-2a51b7dc513d",
   "metadata": {},
   "outputs": [],
   "source": [
    "sk_code = 'NRG_BAL_SD'\n",
    "skdata = eurostat.get_data_df(str.lower(sk_code), flags=False)"
   ]
  },
  {
   "cell_type": "code",
   "execution_count": 15,
   "id": "8e313808-35c0-451c-8327-d9fdd4b71229",
   "metadata": {},
   "outputs": [],
   "source": [
    "## AAS = Available from all sources\n",
    "renewable_sources2020 = skdata.loc[skdata['geo\\\\time'].isin(geo_eu)].loc[skdata['nrg_bal']=='AAS',['geo\\\\time', 'nrg_bal', 'siec', 2020]]\n",
    "renewable_sources2020.rename(columns={'geo\\\\time': 'Country Code'}, inplace=True)\n",
    "renewable_sources2020.dropna(inplace=True)\n",
    "\n",
    "\n",
    "#renewable_sources2020 = renewable_sources2020.loc[renewable_sources2020['siec'].isin(rs_codes)]\n",
    "\n",
    "renewable_sources2020['SIEC'] = renewable_sources2020['siec'].map(siec_codes)\n",
    "renewable_sources2020['Country'] = renewable_sources2020['Country Code'].map(geo_codes)\n",
    "\n",
    "renewable_sources2020 = renewable_sources2020.rename(columns={\n",
    "                                         2020: 'Consumption in KTOE',\n",
    "                                         'siec': 'SIEC Code'\n",
    "                                        }).reset_index(drop=True).drop(columns=['nrg_bal'])\n",
    "\n",
    "\n"
   ]
  },
  {
   "cell_type": "code",
   "execution_count": null,
   "id": "8994480c-cd24-4d2f-b928-b3755621b42c",
   "metadata": {},
   "outputs": [],
   "source": []
  },
  {
   "cell_type": "code",
   "execution_count": null,
   "id": "755852b3-0018-43f7-9bb1-1b02b8e40f8c",
   "metadata": {},
   "outputs": [],
   "source": []
  },
  {
   "cell_type": "code",
   "execution_count": null,
   "id": "04c1af2a-d5a3-4c64-99da-e0c543497430",
   "metadata": {},
   "outputs": [],
   "source": []
  },
  {
   "cell_type": "code",
   "execution_count": 16,
   "id": "ecc31209-d264-4968-a34b-12a01b7f81de",
   "metadata": {},
   "outputs": [],
   "source": [
    "siec_parent = {\n",
    "    'RA000' : 'X',\n",
    "    'RA600' : 'Other Renewable',\n",
    "    'R5300' : 'Biomass',\n",
    "    'R5200' : 'Biomass',\n",
    "    'RA500_5160': 'Other Renewable',\n",
    "    'R5110-5150_W6000RI' : 'Other Renewable',\n",
    "    'W6210' : 'Other Renewable',\n",
    "    'RA420' : 'Solar',\n",
    "    'RA410' : 'Solar',\n",
    "    'RA100' : '', \n",
    "    'RA200' : '', \n",
    "    'RA300' : '', \n",
    "    \n",
    "    \n",
    "    'E7000': '',\n",
    "    \n",
    "    'O4000': 'X',\n",
    "    'O4100_TOT' : 'Oil and petroleum products',\n",
    "    'O4200' : 'Oil and petroleum products',\n",
    "    'O4652XR5210B' : 'Oil and petroleum products',\n",
    "    'O4661XR5230B' : 'Oil and petroleum products',\n",
    "    'O4671XR5220B' : 'Oil and petroleum products',\n",
    "    'O4680' : 'Oil and petroleum products',\n",
    "    'PP_OTH' : 'Oil and petroleum products',\n",
    "    'O4200-4500': 'Oil and petroleum products',\n",
    "    \n",
    "    'SFF_P1000': 'X',\n",
    "    'SFF_OTH' : 'Solid fossil fuels and peat',\n",
    "    'C0121' : 'Solid fossil fuels and peat',\n",
    "    'C0129' : 'Solid fossil fuels and peat',\n",
    "    'C0220' : 'Solid fossil fuels and peat',\n",
    "    'C0311' : 'Solid fossil fuels and peat',\n",
    "    \n",
    "    'W6100_6220': 'X',\n",
    "    'W6220': 'Other non-renewable',\n",
    "    \n",
    "    'G3000_C0350-370': 'X',\n",
    "    'G3000' : 'Gas',\n",
    "    'C0350-0370' : 'Gas',\n",
    "    \n",
    "    \n",
    "    'H8000' : 'Other non-renewable',\n",
    "    'N900H' : 'Other non-renewable',\n",
    "    'E7000' : 'Other non-renewable',\n",
    "    'W6100' : 'Other non-renewable',\n",
    "\n",
    "    'TOTAL' : 'X'\n",
    "    \n",
    "}\n",
    "\n",
    "\n"
   ]
  },
  {
   "cell_type": "code",
   "execution_count": 17,
   "id": "6eb657dd-de32-43f8-8cb3-c7bcb0b4743f",
   "metadata": {},
   "outputs": [],
   "source": [
    "renewable_sources2020['Parent'] = renewable_sources2020['SIEC Code'].replace(siec_parent)\n",
    "renewable_sources2020['Renewable'] = renewable_sources2020['SIEC Code'].isin(rs_codes)\n",
    "\n",
    "renewable_sources2020.loc[renewable_sources2020['Renewable']==True,'Renewable'] = 'Renewable'\n",
    "renewable_sources2020.loc[renewable_sources2020['Renewable']==False,'Renewable'] = 'Non-renewable'"
   ]
  },
  {
   "cell_type": "code",
   "execution_count": 18,
   "id": "a04431a8-156d-42a4-bc69-bdb0c63e9b3d",
   "metadata": {},
   "outputs": [
    {
     "data": {
      "text/plain": [
       "array([], dtype=object)"
      ]
     },
     "execution_count": 18,
     "metadata": {},
     "output_type": "execute_result"
    }
   ],
   "source": [
    "renewable_sources2020.loc[renewable_sources2020['SIEC Code'] == renewable_sources2020['Parent'], 'SIEC'].unique()"
   ]
  },
  {
   "cell_type": "code",
   "execution_count": 19,
   "id": "e3ba81aa-58f7-4b60-8591-e46776a95234",
   "metadata": {},
   "outputs": [],
   "source": [
    "#renewable_sources2020"
   ]
  },
  {
   "cell_type": "code",
   "execution_count": 20,
   "id": "5dc4ac23-61b4-42f9-a079-abce58145d3e",
   "metadata": {},
   "outputs": [],
   "source": [
    "df_be = pd.DataFrame(renewable_sources2020.loc[renewable_sources2020['Country Code']=='SE']\n",
    "             .groupby(['SIEC', 'SIEC Code', 'Parent', ]).sum()).reset_index().sort_values(by=['Parent'])\n"
   ]
  },
  {
   "cell_type": "code",
   "execution_count": 21,
   "id": "058cb83c-f024-4dca-848f-8e62a2b16cc2",
   "metadata": {},
   "outputs": [
    {
     "data": {
      "text/html": [
       "<div>\n",
       "<style scoped>\n",
       "    .dataframe tbody tr th:only-of-type {\n",
       "        vertical-align: middle;\n",
       "    }\n",
       "\n",
       "    .dataframe tbody tr th {\n",
       "        vertical-align: top;\n",
       "    }\n",
       "\n",
       "    .dataframe thead th {\n",
       "        text-align: right;\n",
       "    }\n",
       "</style>\n",
       "<table border=\"1\" class=\"dataframe\">\n",
       "  <thead>\n",
       "    <tr style=\"text-align: right;\">\n",
       "      <th></th>\n",
       "      <th>SIEC</th>\n",
       "      <th>SIEC Code</th>\n",
       "      <th>Parent</th>\n",
       "      <th>Consumption in KTOE</th>\n",
       "    </tr>\n",
       "  </thead>\n",
       "  <tbody>\n",
       "    <tr>\n",
       "      <th>29</th>\n",
       "      <td>Total</td>\n",
       "      <td>TOTAL</td>\n",
       "      <td>X</td>\n",
       "      <td>68806.9</td>\n",
       "    </tr>\n",
       "  </tbody>\n",
       "</table>\n",
       "</div>"
      ],
      "text/plain": [
       "     SIEC SIEC Code Parent  Consumption in KTOE\n",
       "29  Total     TOTAL      X              68806.9"
      ]
     },
     "execution_count": 21,
     "metadata": {},
     "output_type": "execute_result"
    }
   ],
   "source": [
    "df_be.loc[df_be['SIEC']=='Total']"
   ]
  },
  {
   "cell_type": "markdown",
   "id": "78046630-9830-4bf9-a9bd-32b980d6c1b9",
   "metadata": {},
   "source": [
    "Solid fossil fuels and peat\tSFF_P1000\n",
    "Gas\tG3000_C0350-370\n",
    "Oil and petroleum products\tO4000\t\n",
    "Renewables and biofuels\tRA000\t\n"
   ]
  },
  {
   "cell_type": "markdown",
   "id": "4c2cd308-1d12-455b-bbfe-ac50ad68dea2",
   "metadata": {},
   "source": [
    "G3000_C0350-370\t\n",
    "O4000\n",
    "RA000\n",
    "SFF_P1000\n",
    "= 80055.7"
   ]
  },
  {
   "cell_type": "code",
   "execution_count": 22,
   "id": "4af84e88-9dce-41a4-9826-8bb6a9ea6f9a",
   "metadata": {},
   "outputs": [],
   "source": [
    "#         other nonren + X\n",
    "# 90577.7 - ( 11349.3 + 80055.7 )"
   ]
  },
  {
   "cell_type": "code",
   "execution_count": 23,
   "id": "18126421-fc6e-4938-a798-8a691c683f26",
   "metadata": {},
   "outputs": [],
   "source": [
    "# 90577.7"
   ]
  },
  {
   "cell_type": "code",
   "execution_count": 24,
   "id": "f65c8fad-4b9c-4d9c-bccf-6aa693d2ce41",
   "metadata": {},
   "outputs": [],
   "source": [
    "renewable_sources2020 = renewable_sources2020.loc[renewable_sources2020['Parent']!='X']"
   ]
  },
  {
   "cell_type": "code",
   "execution_count": null,
   "id": "aae76248-6900-4332-afb2-f4f59c796201",
   "metadata": {},
   "outputs": [],
   "source": []
  },
  {
   "cell_type": "code",
   "execution_count": 25,
   "id": "8dbac285-25a1-437c-9b24-aaacc7e48a64",
   "metadata": {},
   "outputs": [],
   "source": [
    "renewable_sources2020['Sunburst_Parent'] = renewable_sources2020['Parent']\n",
    "renewable_sources2020['Sunburst_SIEC'] = renewable_sources2020['SIEC']\n"
   ]
  },
  {
   "cell_type": "code",
   "execution_count": 26,
   "id": "d1dedc76-4e4f-4e1c-8cac-fd9a423a5c03",
   "metadata": {},
   "outputs": [],
   "source": [
    "renewable_sources2020.loc[renewable_sources2020['Sunburst_Parent']=='', 'Sunburst_Parent'] = renewable_sources2020.loc[renewable_sources2020['Sunburst_Parent']=='', 'SIEC']\n"
   ]
  },
  {
   "cell_type": "code",
   "execution_count": 27,
   "id": "77acf219-201c-433e-b00d-7ff5ce0ec309",
   "metadata": {},
   "outputs": [],
   "source": [
    "renewable_sources2020.loc[renewable_sources2020['Parent']=='', 'Sunburst_SIEC'] = '' #= renewable_sources2020.loc[renewable_sources2020['Sunburst_Parent']=='', 'SIEC']\n"
   ]
  },
  {
   "cell_type": "code",
   "execution_count": 28,
   "id": "288d9aec-f91d-49a9-aab5-0d9c6e6a72b0",
   "metadata": {},
   "outputs": [],
   "source": [
    "colors = ['#363537', '#fcfcfc', '#bee9e8', '#62b6cb', '#1b4965', '#ffef84', '#c3d37a', '#86b66f', '#0c7c59']\n"
   ]
  },
  {
   "cell_type": "code",
   "execution_count": 29,
   "id": "ec65c9b4-78a0-4433-9ff8-3c527a32500d",
   "metadata": {},
   "outputs": [
    {
     "data": {
      "text/html": [
       "<div>\n",
       "<style scoped>\n",
       "    .dataframe tbody tr th:only-of-type {\n",
       "        vertical-align: middle;\n",
       "    }\n",
       "\n",
       "    .dataframe tbody tr th {\n",
       "        vertical-align: top;\n",
       "    }\n",
       "\n",
       "    .dataframe thead th {\n",
       "        text-align: right;\n",
       "    }\n",
       "</style>\n",
       "<table border=\"1\" class=\"dataframe\">\n",
       "  <thead>\n",
       "    <tr style=\"text-align: right;\">\n",
       "      <th></th>\n",
       "      <th>Country Code</th>\n",
       "      <th>SIEC Code</th>\n",
       "      <th>Consumption in KTOE</th>\n",
       "      <th>SIEC</th>\n",
       "      <th>Country</th>\n",
       "      <th>Parent</th>\n",
       "      <th>Renewable</th>\n",
       "      <th>Sunburst_Parent</th>\n",
       "      <th>Sunburst_SIEC</th>\n",
       "    </tr>\n",
       "  </thead>\n",
       "  <tbody>\n",
       "    <tr>\n",
       "      <th>0</th>\n",
       "      <td>AT</td>\n",
       "      <td>C0121</td>\n",
       "      <td>1208.7</td>\n",
       "      <td>Coking coal</td>\n",
       "      <td>Austria</td>\n",
       "      <td>Solid fossil fuels and peat</td>\n",
       "      <td>Non-renewable</td>\n",
       "      <td>Solid fossil fuels and peat</td>\n",
       "      <td>Coking coal</td>\n",
       "    </tr>\n",
       "    <tr>\n",
       "      <th>1</th>\n",
       "      <td>BE</td>\n",
       "      <td>C0121</td>\n",
       "      <td>1143.2</td>\n",
       "      <td>Coking coal</td>\n",
       "      <td>Belgium</td>\n",
       "      <td>Solid fossil fuels and peat</td>\n",
       "      <td>Non-renewable</td>\n",
       "      <td>Solid fossil fuels and peat</td>\n",
       "      <td>Coking coal</td>\n",
       "    </tr>\n",
       "    <tr>\n",
       "      <th>2</th>\n",
       "      <td>CZ</td>\n",
       "      <td>C0121</td>\n",
       "      <td>2429.4</td>\n",
       "      <td>Coking coal</td>\n",
       "      <td>Czechia</td>\n",
       "      <td>Solid fossil fuels and peat</td>\n",
       "      <td>Non-renewable</td>\n",
       "      <td>Solid fossil fuels and peat</td>\n",
       "      <td>Coking coal</td>\n",
       "    </tr>\n",
       "    <tr>\n",
       "      <th>3</th>\n",
       "      <td>DE</td>\n",
       "      <td>C0121</td>\n",
       "      <td>7096.0</td>\n",
       "      <td>Coking coal</td>\n",
       "      <td>Germany</td>\n",
       "      <td>Solid fossil fuels and peat</td>\n",
       "      <td>Non-renewable</td>\n",
       "      <td>Solid fossil fuels and peat</td>\n",
       "      <td>Coking coal</td>\n",
       "    </tr>\n",
       "    <tr>\n",
       "      <th>4</th>\n",
       "      <td>ES</td>\n",
       "      <td>C0121</td>\n",
       "      <td>475.8</td>\n",
       "      <td>Coking coal</td>\n",
       "      <td>Spain</td>\n",
       "      <td>Solid fossil fuels and peat</td>\n",
       "      <td>Non-renewable</td>\n",
       "      <td>Solid fossil fuels and peat</td>\n",
       "      <td>Coking coal</td>\n",
       "    </tr>\n",
       "    <tr>\n",
       "      <th>...</th>\n",
       "      <td>...</td>\n",
       "      <td>...</td>\n",
       "      <td>...</td>\n",
       "      <td>...</td>\n",
       "      <td>...</td>\n",
       "      <td>...</td>\n",
       "      <td>...</td>\n",
       "      <td>...</td>\n",
       "      <td>...</td>\n",
       "    </tr>\n",
       "    <tr>\n",
       "      <th>822</th>\n",
       "      <td>PL</td>\n",
       "      <td>W6220</td>\n",
       "      <td>408.5</td>\n",
       "      <td>Non-renewable municipal waste</td>\n",
       "      <td>Poland</td>\n",
       "      <td>Other non-renewable</td>\n",
       "      <td>Non-renewable</td>\n",
       "      <td>Other non-renewable</td>\n",
       "      <td>Non-renewable municipal waste</td>\n",
       "    </tr>\n",
       "    <tr>\n",
       "      <th>823</th>\n",
       "      <td>PT</td>\n",
       "      <td>W6220</td>\n",
       "      <td>87.7</td>\n",
       "      <td>Non-renewable municipal waste</td>\n",
       "      <td>Portugal</td>\n",
       "      <td>Other non-renewable</td>\n",
       "      <td>Non-renewable</td>\n",
       "      <td>Other non-renewable</td>\n",
       "      <td>Non-renewable municipal waste</td>\n",
       "    </tr>\n",
       "    <tr>\n",
       "      <th>824</th>\n",
       "      <td>RO</td>\n",
       "      <td>W6220</td>\n",
       "      <td>2.4</td>\n",
       "      <td>Non-renewable municipal waste</td>\n",
       "      <td>Romania</td>\n",
       "      <td>Other non-renewable</td>\n",
       "      <td>Non-renewable</td>\n",
       "      <td>Other non-renewable</td>\n",
       "      <td>Non-renewable municipal waste</td>\n",
       "    </tr>\n",
       "    <tr>\n",
       "      <th>825</th>\n",
       "      <td>SE</td>\n",
       "      <td>W6220</td>\n",
       "      <td>892.1</td>\n",
       "      <td>Non-renewable municipal waste</td>\n",
       "      <td>Sweden</td>\n",
       "      <td>Other non-renewable</td>\n",
       "      <td>Non-renewable</td>\n",
       "      <td>Other non-renewable</td>\n",
       "      <td>Non-renewable municipal waste</td>\n",
       "    </tr>\n",
       "    <tr>\n",
       "      <th>826</th>\n",
       "      <td>SK</td>\n",
       "      <td>W6220</td>\n",
       "      <td>28.4</td>\n",
       "      <td>Non-renewable municipal waste</td>\n",
       "      <td>Slovakia</td>\n",
       "      <td>Other non-renewable</td>\n",
       "      <td>Non-renewable</td>\n",
       "      <td>Other non-renewable</td>\n",
       "      <td>Non-renewable municipal waste</td>\n",
       "    </tr>\n",
       "  </tbody>\n",
       "</table>\n",
       "<p>668 rows × 9 columns</p>\n",
       "</div>"
      ],
      "text/plain": [
       "    Country Code SIEC Code  Consumption in KTOE  \\\n",
       "0             AT     C0121               1208.7   \n",
       "1             BE     C0121               1143.2   \n",
       "2             CZ     C0121               2429.4   \n",
       "3             DE     C0121               7096.0   \n",
       "4             ES     C0121                475.8   \n",
       "..           ...       ...                  ...   \n",
       "822           PL     W6220                408.5   \n",
       "823           PT     W6220                 87.7   \n",
       "824           RO     W6220                  2.4   \n",
       "825           SE     W6220                892.1   \n",
       "826           SK     W6220                 28.4   \n",
       "\n",
       "                              SIEC   Country                       Parent  \\\n",
       "0                      Coking coal   Austria  Solid fossil fuels and peat   \n",
       "1                      Coking coal   Belgium  Solid fossil fuels and peat   \n",
       "2                      Coking coal   Czechia  Solid fossil fuels and peat   \n",
       "3                      Coking coal   Germany  Solid fossil fuels and peat   \n",
       "4                      Coking coal     Spain  Solid fossil fuels and peat   \n",
       "..                             ...       ...                          ...   \n",
       "822  Non-renewable municipal waste    Poland          Other non-renewable   \n",
       "823  Non-renewable municipal waste  Portugal          Other non-renewable   \n",
       "824  Non-renewable municipal waste   Romania          Other non-renewable   \n",
       "825  Non-renewable municipal waste    Sweden          Other non-renewable   \n",
       "826  Non-renewable municipal waste  Slovakia          Other non-renewable   \n",
       "\n",
       "         Renewable              Sunburst_Parent                  Sunburst_SIEC  \n",
       "0    Non-renewable  Solid fossil fuels and peat                    Coking coal  \n",
       "1    Non-renewable  Solid fossil fuels and peat                    Coking coal  \n",
       "2    Non-renewable  Solid fossil fuels and peat                    Coking coal  \n",
       "3    Non-renewable  Solid fossil fuels and peat                    Coking coal  \n",
       "4    Non-renewable  Solid fossil fuels and peat                    Coking coal  \n",
       "..             ...                          ...                            ...  \n",
       "822  Non-renewable          Other non-renewable  Non-renewable municipal waste  \n",
       "823  Non-renewable          Other non-renewable  Non-renewable municipal waste  \n",
       "824  Non-renewable          Other non-renewable  Non-renewable municipal waste  \n",
       "825  Non-renewable          Other non-renewable  Non-renewable municipal waste  \n",
       "826  Non-renewable          Other non-renewable  Non-renewable municipal waste  \n",
       "\n",
       "[668 rows x 9 columns]"
      ]
     },
     "execution_count": 29,
     "metadata": {},
     "output_type": "execute_result"
    }
   ],
   "source": [
    "renewable_sources2020#['Sunburst_Parent'].unique()\n"
   ]
  },
  {
   "cell_type": "code",
   "execution_count": 30,
   "id": "2ad0d6f9-03e0-43e6-b282-b1f8b4873626",
   "metadata": {},
   "outputs": [],
   "source": [
    "#gparent = pd.DataFrame(s_.groupby(['Sunburst_Parent', 'Renewable']).size()).reset_index().drop(columns=[0])\n",
    "\n",
    "#gparent.loc[gparent['Sunburst_Parent']=='Gas', 'Renewable'].values[0]"
   ]
  },
  {
   "cell_type": "code",
   "execution_count": 31,
   "id": "6ccf0990-c742-4689-83f0-21e3e9a0ed05",
   "metadata": {},
   "outputs": [
    {
     "data": {
      "text/plain": [
       "array(['Non-renewable', 'Renewable'], dtype=object)"
      ]
     },
     "execution_count": 31,
     "metadata": {},
     "output_type": "execute_result"
    }
   ],
   "source": [
    "s_ = renewable_sources2020.loc[(renewable_sources2020['Country Code']=='AT'),['Sunburst_SIEC','Sunburst_Parent','Consumption in KTOE', 'Renewable']]\n",
    "#gparent = pd.DataFrame(s_.groupby(['Sunburst_Parent', 'Renewable']).size()).reset_index().drop(columns=[0])\n",
    "\n",
    "#[ gparent.loc[gparent['Sunburst_Parent']==_, 'Renewable'].values[0] for _ in (s_['Sunburst_Parent'].unique()) ]\n",
    "\n",
    "#[ _ for _ in (s_['Sunburst_Parent'].unique()) ]\n",
    "\n",
    "s_['Renewable'].unique()"
   ]
  },
  {
   "cell_type": "code",
   "execution_count": 32,
   "id": "9fd37f70-4965-4bc5-8f29-00e0b1c89d09",
   "metadata": {},
   "outputs": [
    {
     "data": {
      "text/plain": [
       "array(['Non-renewable', 'Renewable'], dtype=object)"
      ]
     },
     "execution_count": 32,
     "metadata": {},
     "output_type": "execute_result"
    }
   ],
   "source": [
    "s_['Renewable'].unique()"
   ]
  },
  {
   "cell_type": "code",
   "execution_count": 33,
   "id": "1e3d17c4-ce52-4c1f-8c64-a5a87889176d",
   "metadata": {},
   "outputs": [
    {
     "data": {
      "text/plain": [
       "array(['Solid fossil fuels and peat', 'Other non-renewable', 'Gas',\n",
       "       'Oil and petroleum products', 'Other Renewable', 'Biomass',\n",
       "       'Hydro', 'Geothermal', 'Wind', 'Solar'], dtype=object)"
      ]
     },
     "execution_count": 33,
     "metadata": {},
     "output_type": "execute_result"
    }
   ],
   "source": [
    "s_['Sunburst_Parent'].unique()"
   ]
  },
  {
   "cell_type": "code",
   "execution_count": 34,
   "id": "00a54470-64ad-4fae-ae0b-dbb3ce0b19cc",
   "metadata": {},
   "outputs": [
    {
     "data": {
      "text/plain": [
       "numpy.ndarray"
      ]
     },
     "execution_count": 34,
     "metadata": {},
     "output_type": "execute_result"
    }
   ],
   "source": [
    "#s_labels = s_['Renewable'].unique() + s_['Sunburst_Parent'].unique() + s_['Sunburst_SIEC'].values \n",
    "#s_labels = \n",
    "#s_['Renewable'].unique()\n",
    "type(s_['Sunburst_Parent'].unique())\n",
    "#type(s_['Sunburst_SIEC'].values )\n",
    "\n",
    "#s_labels = s_['Renewable'].unique().tolist() + s_['Sunburst_Parent'].unique().tolist() + s_['Sunburst_SIEC'].values.tolist()\n",
    "#s_labels"
   ]
  },
  {
   "cell_type": "code",
   "execution_count": 35,
   "id": "b16b64dc-d391-426f-be7d-8cdfbbbde687",
   "metadata": {},
   "outputs": [],
   "source": [
    "#s_.groupby('Renewable').sum().reset_index()\n",
    "\n",
    "#s_.loc[s_['Renewable']=='Renewable','Consumption in KTOE'].sum()"
   ]
  },
  {
   "cell_type": "code",
   "execution_count": null,
   "id": "7c24ae19-d9d1-429d-a13e-954acfb61aa3",
   "metadata": {},
   "outputs": [],
   "source": []
  },
  {
   "cell_type": "code",
   "execution_count": 36,
   "id": "d0b84cc0-b1da-4cbc-9af7-e82145d36a18",
   "metadata": {},
   "outputs": [],
   "source": [
    "\n",
    "renewable_sources2020.to_csv(data_out + 'renewable_sources_2020.csv', index=False)"
   ]
  }
 ],
 "metadata": {
  "kernelspec": {
   "display_name": "Python 3 (ipykernel)",
   "language": "python",
   "name": "python3"
  },
  "language_info": {
   "codemirror_mode": {
    "name": "ipython",
    "version": 3
   },
   "file_extension": ".py",
   "mimetype": "text/x-python",
   "name": "python",
   "nbconvert_exporter": "python",
   "pygments_lexer": "ipython3",
   "version": "3.9.7"
  }
 },
 "nbformat": 4,
 "nbformat_minor": 5
}
