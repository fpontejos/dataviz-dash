{
 "cells": [
  {
   "cell_type": "markdown",
   "id": "0c2b16f4-9399-4afa-a9cd-3539293cf049",
   "metadata": {},
   "source": [
    "# Data Visualization Dashboard Project"
   ]
  },
  {
   "cell_type": "markdown",
   "id": "474e0626-ecbd-459c-8114-b62794ffbc44",
   "metadata": {},
   "source": [
    "## Import packages"
   ]
  },
  {
   "cell_type": "code",
   "execution_count": 1,
   "id": "604ee16c-4993-4e0b-b9cc-3eedbfc1a95b",
   "metadata": {},
   "outputs": [],
   "source": [
    "import eurostat\n",
    "import pandas as pd\n",
    "import openpyxl\n"
   ]
  },
  {
   "cell_type": "code",
   "execution_count": 2,
   "id": "adb1ffa7-b0be-4bc5-8e2b-f38c3ed2ba40",
   "metadata": {},
   "outputs": [],
   "source": [
    "import plotly.graph_objects as go\n",
    "import numpy as np"
   ]
  },
  {
   "cell_type": "code",
   "execution_count": 3,
   "id": "4af194a4-8469-4f3c-b1fd-17427d1820fc",
   "metadata": {},
   "outputs": [],
   "source": [
    "data_out = '../data/'"
   ]
  },
  {
   "cell_type": "markdown",
   "id": "68aaabf2-ea09-41aa-b485-8f7c237e3305",
   "metadata": {},
   "source": [
    "## Codes"
   ]
  },
  {
   "cell_type": "code",
   "execution_count": 4,
   "id": "42480384-7282-42b9-b640-5ee69222d6ad",
   "metadata": {},
   "outputs": [],
   "source": [
    "siec_codes = eurostat.get_dic('siec')\n",
    "\n",
    "geo_eu = [\n",
    "'BE','BG','CZ','DK','DE',\n",
    "'EE','IE','EL','ES','FR',\n",
    "'HR','IT','CY','LV','LT',\n",
    "'LU','HU','MT','NL','AT',\n",
    "'PL','PT','RO','SI','SK',\n",
    "'FI','SE','IS','LI','NO'\n",
    "'CH',\n",
    "]\n",
    "\n",
    "geo_codes = {\n",
    "    'BE': 'Belgium',\n",
    "    'BG': 'Bulgaria',\n",
    "    'CZ': 'Czechia',\n",
    "    'DK': 'Denmark',\n",
    "    'DE': 'Germany',\n",
    "    'EE': 'Estonia',\n",
    "    'IE': 'Ireland',\n",
    "    'EL': 'Greece',\n",
    "    'ES': 'Spain',\n",
    "    'FR': 'France',\n",
    "    'HR': 'Croatia',\n",
    "    'IT': 'Italy',\n",
    "    'CY': 'Cyprus',\n",
    "    'LV': 'Latvia',\n",
    "    'LT': 'Lithuania',\n",
    "    'LU': 'Luxembourg',\n",
    "    'HU': 'Hungary',\n",
    "    'MT': 'Malta',\n",
    "    'NL': 'Netherlands',\n",
    "    'AT': 'Austria',\n",
    "    'PL': 'Poland',\n",
    "    'PT': 'Portugal',\n",
    "    'RO': 'Romania',\n",
    "    'SI': 'Slovenia',\n",
    "    'SK': 'Slovakia',\n",
    "    'FI': 'Finland',\n",
    "    'SE': 'Sweden',\n",
    "    'IS': 'Iceland',\n",
    "    'LI': 'Liechtenstein',\n",
    "    'NO': 'Norway',\n",
    "    'CH': 'Switzerland',\n",
    "    'UK': 'United Kingdom'\n",
    "}\n",
    "\n",
    "x = ['R5110-5150_W6000RI',\n",
    " 'R5200',\n",
    " 'R5300',\n",
    " 'RA000',\n",
    " 'RA200',\n",
    " 'RA410',\n",
    " 'RA500_5160',\n",
    " 'RA600',\n",
    " 'W6210'\n",
    "]\n",
    "\n",
    "rs_codes = [\n",
    " 'R5110-5150_W6000RI',\n",
    " 'R5200', \n",
    " 'R5300', \n",
    " 'RA100',\n",
    " 'RA200',\n",
    " 'RA300',\n",
    " 'RA410',\n",
    " 'RA420', \n",
    " 'RA500_5160', \n",
    " 'RA600',\n",
    " 'W6210',\n",
    "# 'RA000',\n",
    "           ]\n",
    "\n"
   ]
  },
  {
   "cell_type": "markdown",
   "id": "e94e53f4-39b6-46bc-b25f-e0ddc8e107b1",
   "metadata": {},
   "source": [
    "## Get SIEC Timeseries"
   ]
  },
  {
   "cell_type": "code",
   "execution_count": 5,
   "id": "d5932f6a-4b96-4f75-84f6-e2799ba0c65c",
   "metadata": {},
   "outputs": [],
   "source": [
    "es_code = 'NRG_IND_COTD'\n",
    "data = eurostat.get_data_df(str.lower(es_code), flags=False)"
   ]
  },
  {
   "cell_type": "code",
   "execution_count": 6,
   "id": "600d5ea8-6907-4560-807a-c18310ddb211",
   "metadata": {},
   "outputs": [],
   "source": [
    "## Rename columns:\n",
    "data.rename(columns={'geo\\\\time': 'Country Code', 'siec':'SIEC Code'}, inplace=True)"
   ]
  },
  {
   "cell_type": "code",
   "execution_count": 7,
   "id": "0688dbd9-0b1a-4324-ac66-37075e26d7c7",
   "metadata": {},
   "outputs": [],
   "source": [
    "# Keep only selected countries\n",
    "data = data.loc[data['Country Code'].isin(geo_eu),:]"
   ]
  },
  {
   "cell_type": "code",
   "execution_count": 8,
   "id": "ec276fd1-4102-4c3a-9e0d-c027f13d46fc",
   "metadata": {},
   "outputs": [],
   "source": [
    "# Remove extra rows in nrg_bal\n",
    "# Keep only:\n",
    "# Gross final consumption - energy use - overall target calculation without aviation cap adjustment \n",
    "# [GFC_E_OT_NAVICAPA]\n",
    "\n",
    "data = data.loc[data['nrg_bal']=='GFC_E_OT_NAVICAPA',:]\n"
   ]
  },
  {
   "cell_type": "code",
   "execution_count": 9,
   "id": "490e9262-2b78-46f3-a5d4-b5c0664f48dd",
   "metadata": {},
   "outputs": [],
   "source": [
    "# Remove unneccessary cols \n",
    "data.drop(columns=['nrg_bal','unit'], inplace=True)"
   ]
  },
  {
   "cell_type": "code",
   "execution_count": 10,
   "id": "a42c390b-62a4-441b-a8f4-f34fb40a7573",
   "metadata": {},
   "outputs": [],
   "source": [
    "data.reset_index(drop=True, inplace=True)"
   ]
  },
  {
   "cell_type": "code",
   "execution_count": 11,
   "id": "2608a6a5-8062-4576-8bdc-bd566076b19c",
   "metadata": {},
   "outputs": [],
   "source": [
    "data['Country'] = data['Country Code']\n",
    "data['Country'] = data['Country'].map(geo_codes)"
   ]
  },
  {
   "cell_type": "code",
   "execution_count": 12,
   "id": "1e338523-2e16-4406-b34a-f155d6f069d2",
   "metadata": {},
   "outputs": [],
   "source": [
    "data['SIEC'] = data['SIEC Code']\n",
    "data['SIEC'] = data['SIEC'].map(siec_codes)"
   ]
  },
  {
   "cell_type": "code",
   "execution_count": 13,
   "id": "05a8fc96-06ea-44f0-9895-ad52f59cc122",
   "metadata": {},
   "outputs": [],
   "source": [
    "data.to_csv(data_out + 'renewables_percent_timeseries.csv', index=False)"
   ]
  },
  {
   "cell_type": "markdown",
   "id": "25d8e605-aa1f-431f-959e-af422f489368",
   "metadata": {},
   "source": [
    "## Get Energy Flow Data "
   ]
  },
  {
   "cell_type": "code",
   "execution_count": 14,
   "id": "30ad86d4-a14f-46cf-b901-2a51b7dc513d",
   "metadata": {},
   "outputs": [],
   "source": [
    "sk_code = 'NRG_BAL_SD'\n",
    "skdata = eurostat.get_data_df(str.lower(sk_code), flags=False)"
   ]
  },
  {
   "cell_type": "code",
   "execution_count": 15,
   "id": "8e313808-35c0-451c-8327-d9fdd4b71229",
   "metadata": {},
   "outputs": [],
   "source": [
    "## AAS = Available from all sources\n",
    "renewable_sources2020 = skdata.loc[skdata['geo\\\\time'].isin(geo_eu)].loc[skdata['nrg_bal']=='AAS',['geo\\\\time', 'nrg_bal', 'siec', 2020]]\n",
    "renewable_sources2020.rename(columns={'geo\\\\time': 'Country Code'}, inplace=True)\n",
    "renewable_sources2020.dropna(inplace=True)\n",
    "\n",
    "\n",
    "renewable_sources2020 = renewable_sources2020.loc[renewable_sources2020['siec'].isin(rs_codes)]\n",
    "\n",
    "renewable_sources2020['SIEC'] = renewable_sources2020['siec'].map(siec_codes)\n",
    "\n",
    "renewable_sources2020 = renewable_sources2020.rename(columns={\n",
    "                                         2020: 'Consumption in KTOE',\n",
    "                                         'siec': 'SIEC Code'\n",
    "                                        }).reset_index(drop=True).drop(columns=['nrg_bal'])\n",
    "\n",
    "\n",
    "renewable_sources2020.to_csv(data_out + 'renewable_sources_2020.csv', index=False)\n"
   ]
  },
  {
   "cell_type": "code",
   "execution_count": null,
   "id": "8994480c-cd24-4d2f-b928-b3755621b42c",
   "metadata": {},
   "outputs": [],
   "source": []
  },
  {
   "cell_type": "code",
   "execution_count": 16,
   "id": "9af53d5f-0c10-48b3-8fa3-630c6bd09a48",
   "metadata": {},
   "outputs": [],
   "source": [
    "# renewable_sources2020.loc[renewable_sources2020['Country Code']=='AT','Consumption in KTOE'].sum()\n",
    "# renewable_sources2020.loc[renewable_sources2020['Country Code']=='AT']"
   ]
  },
  {
   "cell_type": "code",
   "execution_count": 17,
   "id": "6f10a4b1-f726-42f5-95ad-d98da4104551",
   "metadata": {},
   "outputs": [
    {
     "data": {
      "text/plain": [
       "array(['AT', 'BE', 'BG', 'CY', 'CZ', 'DE', 'DK', 'EE', 'EL', 'ES', 'FI',\n",
       "       'FR', 'HR', 'HU', 'IE', 'IT', 'LT', 'LU', 'LV', 'MT', 'NL', 'PL',\n",
       "       'PT', 'RO', 'SE', 'SI', 'SK'], dtype=object)"
      ]
     },
     "execution_count": 17,
     "metadata": {},
     "output_type": "execute_result"
    }
   ],
   "source": [
    "renewable_sources2020['Country Code'].unique()"
   ]
  },
  {
   "cell_type": "code",
   "execution_count": null,
   "id": "04c1af2a-d5a3-4c64-99da-e0c543497430",
   "metadata": {},
   "outputs": [],
   "source": []
  }
 ],
 "metadata": {
  "kernelspec": {
   "display_name": "Python 3 (ipykernel)",
   "language": "python",
   "name": "python3"
  },
  "language_info": {
   "codemirror_mode": {
    "name": "ipython",
    "version": 3
   },
   "file_extension": ".py",
   "mimetype": "text/x-python",
   "name": "python",
   "nbconvert_exporter": "python",
   "pygments_lexer": "ipython3",
   "version": "3.9.7"
  }
 },
 "nbformat": 4,
 "nbformat_minor": 5
}
